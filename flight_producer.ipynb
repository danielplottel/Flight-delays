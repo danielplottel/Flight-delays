{
 "cells": [
  {
   "cell_type": "markdown",
   "metadata": {},
   "source": [
    "# Produce flight streaming data\n",
    "\n",
    "Kafka will be used to simulate streaming data from the CSV files by creating a topic that data will be published to.\n",
    "\n",
    "## Table of contents<a class=\"anchor\" id=\"table\"></a>\n",
    "\n",
    "* [1. Read all flight data into list of list of dictionaries](#1)\n",
    "* [2. Set up Kafka producer auxiliary functions](#2)\n",
    "* [3. Publish streaming data to Kafka topic](#3)"
   ]
  },
  {
   "cell_type": "code",
   "execution_count": 1,
   "metadata": {},
   "outputs": [],
   "source": [
    "# Import libaries\n",
    "from random import randint\n",
    "import datetime as dt\n",
    "from time import sleep\n",
    "from json import dumps\n",
    "from kafka import KafkaProducer\n",
    "import csv"
   ]
  },
  {
   "cell_type": "markdown",
   "metadata": {},
   "source": [
    "## 1. Read all flight data into list of list of dictionaries<a class=\"anchor\" id=\"1\"></a>\n",
    "[Back to top](#table)"
   ]
  },
  {
   "cell_type": "code",
   "execution_count": 2,
   "metadata": {},
   "outputs": [],
   "source": [
    "# Auxiliary function to read data from csv files (from tutorial)\n",
    "def read_csv(fileName):\n",
    "    list = []\n",
    "    with open(fileName) as f:\n",
    "        reader = csv.DictReader(f)\n",
    "        for row in reader:\n",
    "            list.append(row)\n",
    "    return list"
   ]
  },
  {
   "cell_type": "markdown",
   "metadata": {},
   "source": [
    "Clean the data on the producer side. This is included in the function `getFlightRecords`."
   ]
  },
  {
   "cell_type": "code",
   "execution_count": 3,
   "metadata": {},
   "outputs": [],
   "source": [
    "# We need to avoid null in the following columns for the ML pipeline later\n",
    "mlCols = [\"MONTH\", \"DAY_OF_WEEK\", \"AIRLINE\", \"FLIGHT_NUMBER\", \"ORIGIN_AIRPORT\", \"DESTINATION_AIRPORT\",\n",
    "          \"SCHEDULED_DEPARTURE\", \"DEPARTURE_DELAY\", \"TAXI_OUT\", \"WHEELS_OFF\", \"SCHEDULED_TIME\",\n",
    "          \"ELAPSED_TIME\", \"AIR_TIME\", \"DISTANCE\", \"WHEELS_ON\", \"TAXI_IN\", \"SCHEDULED_ARRIVAL\",\n",
    "          \"ARRIVAL_DELAY\"]"
   ]
  },
  {
   "cell_type": "code",
   "execution_count": 4,
   "metadata": {},
   "outputs": [],
   "source": [
    "# Create keys that will be used for indexing\n",
    "keyFlights = {1,2,3,4,5,6,7}"
   ]
  },
  {
   "cell_type": "code",
   "execution_count": 5,
   "metadata": {},
   "outputs": [],
   "source": [
    "# Sort dictionaries into lists based on their DAY_OF_WEEK\n",
    "def getFlightRecords(checkNullCols):\n",
    "    \n",
    "    # Read all data\n",
    "    data = []\n",
    "    for f in range(1,21):\n",
    "        data += read_csv('data/flight{}.csv'.format(f))\n",
    "    \n",
    "    flightRecords = []\n",
    "    \n",
    "    for key in keyFlights:\n",
    "        \n",
    "        # Separate data into lists by key\n",
    "        sublist = [d for d in data if d['DAY_OF_WEEK']==str(key)]\n",
    "        \n",
    "        # For chosen columns, do not keep records if any chosen columns are empty\n",
    "        sublist = [d for d in sublist if all([d.get(k) for k in mlCols])]\n",
    "        \n",
    "        # Add list of records for a particular day of the week to the outer list\n",
    "        flightRecords.append(sublist)\n",
    "    \n",
    "    return flightRecords"
   ]
  },
  {
   "cell_type": "code",
   "execution_count": 6,
   "metadata": {},
   "outputs": [],
   "source": [
    "# Get flight records into a list of lists of dictionaries\n",
    "flightRecords = getFlightRecords(checkNullCols = mlCols)"
   ]
  },
  {
   "cell_type": "markdown",
   "metadata": {},
   "source": [
    "## 2. Set up Kafka producer auxiliary functions<a class=\"anchor\" id=\"2\"></a>\n",
    "[Back to top](#table)"
   ]
  },
  {
   "cell_type": "code",
   "execution_count": 7,
   "metadata": {},
   "outputs": [],
   "source": [
    "# Set up functions for kafka producer\n",
    "def publish_message(producer_instance, topic_name, data):\n",
    "    try:\n",
    "        producer_instance.send(topic_name, data)\n",
    "        print('Message published successfully. Data: ' + str(len(data)) + ' records sent')\n",
    "    except Exception as ex:\n",
    "        print('Exception in publishing message.')\n",
    "        print(str(ex))\n",
    "        \n",
    "def connect_kafka_producer():\n",
    "    _producer = None\n",
    "    try:\n",
    "        _producer = KafkaProducer(bootstrap_servers=['localhost:9092'],\n",
    "                                  value_serializer=lambda x: dumps(x).encode('ascii'),\n",
    "                                  api_version=(0, 10))\n",
    "    except Exception as ex:\n",
    "        print('Exception while connecting Kafka.')\n",
    "        print(str(ex))\n",
    "    finally:\n",
    "        return _producer"
   ]
  },
  {
   "cell_type": "markdown",
   "metadata": {},
   "source": [
    "## 3. Publish streaming data to Kafka topic<a class=\"anchor\" id=\"3\"></a>\n",
    "[Back to top](#table)\n",
    "\n",
    "$X_n$ records will be sent in the $n^{th}$ batch while $Y_n$ will be sent in the $(n+1)^{th}$ batch"
   ]
  },
  {
   "cell_type": "code",
   "execution_count": 8,
   "metadata": {
    "scrolled": true
   },
   "outputs": [
    {
     "name": "stdout",
     "output_type": "stream",
     "text": [
      "Publishing records..\n",
      "Message published successfully. Data: 567 records sent\n",
      "Message published successfully. Data: 606 records sent\n",
      "Message published successfully. Data: 658 records sent\n",
      "Message published successfully. Data: 654 records sent\n",
      "Message published successfully. Data: 670 records sent\n",
      "Message published successfully. Data: 647 records sent\n",
      "Message published successfully. Data: 620 records sent\n",
      "Message published successfully. Data: 614 records sent\n",
      "Message published successfully. Data: 680 records sent\n",
      "Message published successfully. Data: 659 records sent\n",
      "Message published successfully. Data: 624 records sent\n",
      "Message published successfully. Data: 626 records sent\n",
      "Message published successfully. Data: 709 records sent\n",
      "Message published successfully. Data: 651 records sent\n",
      "Message published successfully. Data: 614 records sent\n",
      "Message published successfully. Data: 629 records sent\n",
      "Message published successfully. Data: 639 records sent\n",
      "Message published successfully. Data: 668 records sent\n",
      "Message published successfully. Data: 686 records sent\n",
      "Message published successfully. Data: 642 records sent\n",
      "Message published successfully. Data: 616 records sent\n",
      "Message published successfully. Data: 698 records sent\n",
      "Message published successfully. Data: 662 records sent\n",
      "Message published successfully. Data: 641 records sent\n",
      "Message published successfully. Data: 640 records sent\n",
      "Message published successfully. Data: 618 records sent\n",
      "Message published successfully. Data: 602 records sent\n",
      "Message published successfully. Data: 662 records sent\n",
      "Message published successfully. Data: 649 records sent\n",
      "Message published successfully. Data: 608 records sent\n",
      "Message published successfully. Data: 683 records sent\n",
      "Message published successfully. Data: 644 records sent\n",
      "Message published successfully. Data: 668 records sent\n",
      "Message published successfully. Data: 639 records sent\n",
      "Message published successfully. Data: 638 records sent\n",
      "Message published successfully. Data: 685 records sent\n",
      "Message published successfully. Data: 652 records sent\n",
      "Message published successfully. Data: 672 records sent\n",
      "Message published successfully. Data: 625 records sent\n"
     ]
    },
    {
     "ename": "KeyboardInterrupt",
     "evalue": "",
     "output_type": "error",
     "traceback": [
      "\u001b[0;31m---------------------------------------------------------------------------\u001b[0m",
      "\u001b[0;31mKeyboardInterrupt\u001b[0m                         Traceback (most recent call last)",
      "\u001b[0;32m<ipython-input-8-7a1ae10ced9d>\u001b[0m in \u001b[0;36m<module>\u001b[0;34m\u001b[0m\n\u001b[1;32m     63\u001b[0m                 \u001b[0mY\u001b[0m\u001b[0;34m.\u001b[0m\u001b[0mappend\u001b[0m\u001b[0;34m(\u001b[0m\u001b[0mrecord\u001b[0m\u001b[0;34m)\u001b[0m\u001b[0;34m\u001b[0m\u001b[0;34m\u001b[0m\u001b[0m\n\u001b[1;32m     64\u001b[0m \u001b[0;34m\u001b[0m\u001b[0m\n\u001b[0;32m---> 65\u001b[0;31m             \u001b[0msleep\u001b[0m\u001b[0;34m(\u001b[0m\u001b[0;36m1\u001b[0m\u001b[0;34m)\u001b[0m\u001b[0;34m\u001b[0m\u001b[0;34m\u001b[0m\u001b[0m\n\u001b[0m\u001b[1;32m     66\u001b[0m \u001b[0;34m\u001b[0m\u001b[0m\n\u001b[1;32m     67\u001b[0m         \u001b[0;31m# So that total time between batches being sent is 10 (1*7 + 3)\u001b[0m\u001b[0;34m\u001b[0m\u001b[0;34m\u001b[0m\u001b[0;34m\u001b[0m\u001b[0m\n",
      "\u001b[0;31mKeyboardInterrupt\u001b[0m: "
     ]
    }
   ],
   "source": [
    "if __name__ == '__main__':\n",
    "   \n",
    "    topic = 'flightTopic'\n",
    "\n",
    "    print('Publishing records..')\n",
    "    flightProducer = connect_kafka_producer()\n",
    "    \n",
    "    # Ensure Y list is reset to empty each time this code cell is run\n",
    "    Y = []\n",
    "    \n",
    "    # Initialise indexer to help retrieve records\n",
    "    indexer = [0]*len(keyFlights)\n",
    "    \n",
    "    while True:\n",
    "\n",
    "        # Set Y batch that will be sent this iteration\n",
    "        YOld = Y\n",
    "\n",
    "        # Start with empty lists\n",
    "        X = [] # Send this at current time unit\n",
    "        Y = [] # Send this at next time unit\n",
    "\n",
    "        # For each sub batch, add records to batches X and Y\n",
    "        for sublist, key in zip(flightRecords, keyFlights):\n",
    "\n",
    "            # Create timestamp (For both sub batches)\n",
    "            ts = int(dt.datetime.utcnow().timestamp())\n",
    "            \n",
    "            # X sub batch: do 70-100 times\n",
    "            for i in range(randint(70,100)):\n",
    "                \n",
    "                # Create record\n",
    "                record = {'ts': ts}\n",
    "                \n",
    "                # Update record\n",
    "                try:\n",
    "                    record.update(sublist[indexer[key-1]])\n",
    "                except IndexError:\n",
    "                    indexer[key-1] = 0  # reset index if data exhausted\n",
    "                    record.update(sublist[indexer[key-1]])\n",
    "                finally:\n",
    "                    indexer[key-1] += 1\n",
    "        \n",
    "                # Add record to the batch\n",
    "                X.append(record)\n",
    "\n",
    "            # Y batch: do 5-10 times\n",
    "            for i in range(randint(5,10)):\n",
    "\n",
    "                # Create record\n",
    "                record = {'ts': ts}\n",
    "            \n",
    "                # Update the record with flight data\n",
    "                try:\n",
    "                    record.update(sublist[indexer[key-1]])\n",
    "                except IndexError:\n",
    "                    indexer[key-1] = 0  # reset index if data exhausted\n",
    "                    record.update(sublist[indexer[key-1]])\n",
    "                finally:\n",
    "                    indexer[key-1] += 1\n",
    "\n",
    "                # Append instance\n",
    "                Y.append(record)\n",
    "\n",
    "            sleep(1)\n",
    "        \n",
    "        # So that total time between batches being sent is 10 (1*7 + 3)\n",
    "        sleep(3)        \n",
    "        \n",
    "        # Send batches\n",
    "        publish_message(flightProducer, topic, X + YOld)"
   ]
  }
 ],
 "metadata": {
  "kernelspec": {
   "display_name": "Python 3 (ipykernel)",
   "language": "python",
   "name": "python3"
  },
  "language_info": {
   "codemirror_mode": {
    "name": "ipython",
    "version": 3
   },
   "file_extension": ".py",
   "mimetype": "text/x-python",
   "name": "python",
   "nbconvert_exporter": "python",
   "pygments_lexer": "ipython3",
   "version": "3.9.7"
  }
 },
 "nbformat": 4,
 "nbformat_minor": 4
}
